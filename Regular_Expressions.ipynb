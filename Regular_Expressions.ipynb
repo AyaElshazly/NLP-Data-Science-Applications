{
  "cells": [
    {
      "cell_type": "markdown",
      "metadata": {
        "id": "view-in-github",
        "colab_type": "text"
      },
      "source": [
        "<a href=\"https://colab.research.google.com/github/AyaElshazly/NLP-Data-Science-Applications/blob/main/Regular_Expressions.ipynb\" target=\"_parent\"><img src=\"https://colab.research.google.com/assets/colab-badge.svg\" alt=\"Open In Colab\"/></a>"
      ]
    },
    {
      "cell_type": "code",
      "execution_count": null,
      "id": "e1072443",
      "metadata": {
        "id": "e1072443",
        "outputId": "e10bcd91-96dd-483c-90f4-351ccd79a579"
      },
      "outputs": [
        {
          "name": "stdout",
          "output_type": "stream",
          "text": [
            "1\n"
          ]
        }
      ],
      "source": [
        "# Define the function is_stretchy with two string inputs S and word\n",
        "def is_stretchy(S, word):\n",
        "    # Initialize two pointers i and j to 0, and variables n and m to the lengths of S and word, respectively\n",
        "    i, j, n, m = 0, 0, len(S), len(word)\n",
        "\n",
        "    # Loop through S and word while i and j are less than their respective lengths\n",
        "    while i < n and j < m:\n",
        "        # If the current characters of S and word are not equal, return False\n",
        "        if S[i] != word[j]:\n",
        "            return False\n",
        "\n",
        "        # Record the starting positions of the consecutive character groups in S and word\n",
        "        start_i, start_j = i, j\n",
        "\n",
        "        # Count the number of consecutive characters in S that are the same as the current character\n",
        "        while i < n and S[i] == S[start_i]:\n",
        "            i += 1\n",
        "\n",
        "        # Count the number of consecutive characters in word that are the same as the current character\n",
        "        while j < m and word[j] == word[start_j]:\n",
        "            j += 1\n",
        "\n",
        "        # Check if the stretchy conditions are satisfied for the current pair of consecutive character groups\n",
        "        if i - start_i < j - start_j or (i - start_i > j - start_j and i - start_i < 3):\n",
        "            return False\n",
        "\n",
        "    # Return True if i has reached the end of S and j has reached the end of word\n",
        "    return i == n and j == m\n",
        "\n",
        "\n",
        "# Define the function count_stretchy_words with a string input S and a list of words input words\n",
        "def count_stretchy_words(S, words):\n",
        "    # Initialize a variable count to 0\n",
        "    count = 0\n",
        "\n",
        "    # Loop through each word in words\n",
        "    for word in words:\n",
        "        # If the current word is stretchy, increment count by 1\n",
        "        if is_stretchy(S, word):\n",
        "            count += 1\n",
        "\n",
        "    # Return the final count\n",
        "    return count\n",
        "\n",
        "\n",
        "# Define the input string S and the list of words words\n",
        "S = \"heeellooo\"\n",
        "words = [\"hello\", \"hi\", \"helo\"]\n",
        "\n",
        "# Call the function count_stretchy_words with inputs S and words, and store the result in the variable count\n",
        "count = count_stretchy_words(S, words)\n",
        "\n",
        "# Print the final count\n",
        "print(count)  # Output: 1"
      ]
    },
    {
      "cell_type": "code",
      "execution_count": null,
      "id": "99203c4e",
      "metadata": {
        "id": "99203c4e"
      },
      "outputs": [],
      "source": []
    }
  ],
  "metadata": {
    "kernelspec": {
      "display_name": "Python 3 (ipykernel)",
      "language": "python",
      "name": "python3"
    },
    "language_info": {
      "codemirror_mode": {
        "name": "ipython",
        "version": 3
      },
      "file_extension": ".py",
      "mimetype": "text/x-python",
      "name": "python",
      "nbconvert_exporter": "python",
      "pygments_lexer": "ipython3",
      "version": "3.10.9"
    },
    "colab": {
      "provenance": [],
      "include_colab_link": true
    }
  },
  "nbformat": 4,
  "nbformat_minor": 5
}